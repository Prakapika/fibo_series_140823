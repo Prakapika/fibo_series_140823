{
 "cells": [
  {
   "cell_type": "code",
   "execution_count": 1,
   "id": "13c29420",
   "metadata": {},
   "outputs": [
    {
     "name": "stdout",
     "output_type": "stream",
     "text": [
      "Enter the number1: 0\n",
      "Enter the number2: 1\n",
      "1\n",
      "1\n",
      "2\n",
      "3\n",
      "5\n",
      "8\n",
      "13\n",
      "21\n",
      "34\n",
      "55\n"
     ]
    }
   ],
   "source": [
    "#Fibonacci series\n",
    "number1 = int(input(\"Enter the number1: \"))\n",
    "number2 = int(input(\"Enter the number2: \"))\n",
    "while number1<50:\n",
    "    print(number2)\n",
    "    number1, number2 = number2, number1+number2"
   ]
  },
  {
   "cell_type": "code",
   "execution_count": null,
   "id": "2bb054bb",
   "metadata": {},
   "outputs": [],
   "source": []
  }
 ],
 "metadata": {
  "kernelspec": {
   "display_name": "Python 3 (ipykernel)",
   "language": "python",
   "name": "python3"
  },
  "language_info": {
   "codemirror_mode": {
    "name": "ipython",
    "version": 3
   },
   "file_extension": ".py",
   "mimetype": "text/x-python",
   "name": "python",
   "nbconvert_exporter": "python",
   "pygments_lexer": "ipython3",
   "version": "3.10.6"
  }
 },
 "nbformat": 4,
 "nbformat_minor": 5
}
